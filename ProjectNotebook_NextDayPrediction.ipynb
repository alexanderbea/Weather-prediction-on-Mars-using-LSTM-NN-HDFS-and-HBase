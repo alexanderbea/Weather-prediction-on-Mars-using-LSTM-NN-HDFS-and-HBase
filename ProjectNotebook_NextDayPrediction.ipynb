{
 "cells": [
  {
   "cell_type": "markdown",
   "metadata": {
    "id": "IQSD5lfRMYsK"
   },
   "source": [
    "<h1>Weather on Mars - Next Day Prediction</h1>\n",
    "<h2>Prediction of temperature based on empirical data collected by Curiosity Mars Rover</h2>\n"
   ]
  },
  {
   "cell_type": "code",
   "execution_count": null,
   "metadata": {
    "id": "tjUzbiwqRA9V"
   },
   "outputs": [],
   "source": [
    "runLocallyOrOnDrive = 'Drive' # 'Drive' or 'Local'\n",
    "#if 'Local' change the paths below to local paths e.g.  r'C:/Users/..'"
   ]
  },
  {
   "cell_type": "code",
   "execution_count": null,
   "metadata": {
    "cellView": "form",
    "colab": {
     "base_uri": "https://localhost:8080/",
     "height": 35
    },
    "executionInfo": {
     "elapsed": 660,
     "status": "ok",
     "timestamp": 1603272031259,
     "user": {
      "displayName": "Tinker Projects",
      "photoUrl": "",
      "userId": "02989585942682063308"
     },
     "user_tz": -120
    },
    "id": "RFhmOPCsN8bi",
    "outputId": "bc4436d9-5d46-4f75-ea67-91706a22195f"
   },
   "outputs": [
    {
     "name": "stdout",
     "output_type": "stream",
     "text": [
      "Drive already mounted at /content/drive/; to attempt to forcibly remount, call drive.mount(\"/content/drive/\", force_remount=True).\n"
     ]
    }
   ],
   "source": [
    "#@title Connect to Google Drive if runLocallyOrOnDrive=='Drive'\n",
    "if runLocallyOrOnDrive == \"Drive\":\n",
    "  from google.colab import drive\n",
    "  drive.mount('/content/drive/')"
   ]
  },
  {
   "cell_type": "code",
   "execution_count": null,
   "metadata": {
    "cellView": "form",
    "id": "V-8gtHACdKZZ"
   },
   "outputs": [],
   "source": [
    "#@title Change these file paths to your respective\n",
    "#Google drive folder, but it can also be local e.g. on your C-disk\n",
    "if runLocallyOrOnDrive == 'Local':\n",
    "    loadModelPath = r'/content/../model.json' \n",
    "    saveModelPathH5 = r'/content/../model.h5'  \n",
    "    \n",
    "elif runLocallyOrOnDrive == 'Drive': \n",
    "    saveModelPath = r'/content/../model.json' \n",
    "    saveModelPathH5 = r'/content/../model.h5'"
   ]
  },
  {
   "cell_type": "code",
   "execution_count": null,
   "metadata": {
    "cellView": "form",
    "id": "1_7vIZWZPV0G"
   },
   "outputs": [],
   "source": [
    "#@title Import libraries\n",
    "# # If you want to loads file, upload to drive and run the following\n",
    "import urllib, json\n",
    "\n",
    "# import sys\n",
    "import pandas as pd\n",
    "import matplotlib.pyplot as plt\n",
    "import numpy as np\n",
    "import tensorflow as tf\n",
    "from datetime import timedelta  \n",
    "\n",
    "from keras.layers import Bidirectional,LSTM,Dense,Flatten,Conv1D,MaxPooling1D,Dropout,RepeatVector\n",
    "from keras.models import Sequential\n",
    "from keras.callbacks import EarlyStopping,ReduceLROnPlateau\n",
    "from tensorflow import keras\n",
    "from sklearn.preprocessing import MinMaxScaler"
   ]
  },
  {
   "cell_type": "code",
   "execution_count": null,
   "metadata": {
    "cellView": "form",
    "id": "tVZUhNt0MpD5"
   },
   "outputs": [],
   "source": [
    "#@title Functions: Load Data\n",
    "# returns the (average) weather data for a top level key [sol] from [sol_keys]\n",
    "def findAtAndPre(dictionary, key):\n",
    "  value = dictionary.get(key)\n",
    "  return {'terrestrial_date': value.get('First_UTC')[:10], 'Low': value.get('AT')['mn'], 'High': value.get('AT')['mx']}\n",
    "\n",
    "def loadRecentNDaysOfData(): \n",
    "  # returns the data of the latest 7 days\n",
    "  apiUrl = 'https://api.nasa.gov/insight_weather/?api_key=DEMO_KEY&feedtype=json&ver=1.0'\n",
    "  jsonApi = json.loads(urllib.request.urlopen(apiUrl).read())\n",
    "  dfApi = pd.DataFrame({key: findAtAndPre(jsonApi, key) for key in jsonApi.get('sol_keys')})\n",
    "  return dfApi"
   ]
  },
  {
   "cell_type": "code",
   "execution_count": null,
   "metadata": {
    "colab": {
     "base_uri": "https://localhost:8080/",
     "height": 263
    },
    "executionInfo": {
     "elapsed": 1161,
     "status": "ok",
     "timestamp": 1603273871525,
     "user": {
      "displayName": "Tinker Projects",
      "photoUrl": "",
      "userId": "02989585942682063308"
     },
     "user_tz": -120
    },
    "id": "bfkp4CCMP58j",
    "outputId": "1e4c4533-24b8-4f0f-98c1-d33a703aefc5"
   },
   "outputs": [
    {
     "data": {
      "text/html": [
       "<div>\n",
       "<style scoped>\n",
       "    .dataframe tbody tr th:only-of-type {\n",
       "        vertical-align: middle;\n",
       "    }\n",
       "\n",
       "    .dataframe tbody tr th {\n",
       "        vertical-align: top;\n",
       "    }\n",
       "\n",
       "    .dataframe thead th {\n",
       "        text-align: right;\n",
       "    }\n",
       "</style>\n",
       "<table border=\"1\" class=\"dataframe\">\n",
       "  <thead>\n",
       "    <tr style=\"text-align: right;\">\n",
       "      <th></th>\n",
       "      <th>terrestrial_date</th>\n",
       "      <th>Low</th>\n",
       "      <th>High</th>\n",
       "      <th>avg_temp</th>\n",
       "    </tr>\n",
       "  </thead>\n",
       "  <tbody>\n",
       "    <tr>\n",
       "      <th>669</th>\n",
       "      <td>2020-10-13</td>\n",
       "      <td>-95.63</td>\n",
       "      <td>-15.85</td>\n",
       "      <td>-55.7400</td>\n",
       "    </tr>\n",
       "    <tr>\n",
       "      <th>670</th>\n",
       "      <td>2020-10-14</td>\n",
       "      <td>-95.821</td>\n",
       "      <td>-15.826</td>\n",
       "      <td>-55.8235</td>\n",
       "    </tr>\n",
       "    <tr>\n",
       "      <th>671</th>\n",
       "      <td>2020-10-15</td>\n",
       "      <td>-95.959</td>\n",
       "      <td>-8.545</td>\n",
       "      <td>-52.2520</td>\n",
       "    </tr>\n",
       "    <tr>\n",
       "      <th>672</th>\n",
       "      <td>2020-10-16</td>\n",
       "      <td>-96.828</td>\n",
       "      <td>-6.506</td>\n",
       "      <td>-51.6670</td>\n",
       "    </tr>\n",
       "    <tr>\n",
       "      <th>673</th>\n",
       "      <td>2020-10-17</td>\n",
       "      <td>-96.654</td>\n",
       "      <td>-9.915</td>\n",
       "      <td>-53.2845</td>\n",
       "    </tr>\n",
       "    <tr>\n",
       "      <th>674</th>\n",
       "      <td>2020-10-18</td>\n",
       "      <td>-96.011</td>\n",
       "      <td>-7.439</td>\n",
       "      <td>-51.7250</td>\n",
       "    </tr>\n",
       "    <tr>\n",
       "      <th>675</th>\n",
       "      <td>2020-10-19</td>\n",
       "      <td>-96.872</td>\n",
       "      <td>-15.908</td>\n",
       "      <td>-56.3900</td>\n",
       "    </tr>\n",
       "  </tbody>\n",
       "</table>\n",
       "</div>"
      ],
      "text/plain": [
       "    terrestrial_date     Low    High  avg_temp\n",
       "669       2020-10-13  -95.63  -15.85  -55.7400\n",
       "670       2020-10-14 -95.821 -15.826  -55.8235\n",
       "671       2020-10-15 -95.959  -8.545  -52.2520\n",
       "672       2020-10-16 -96.828  -6.506  -51.6670\n",
       "673       2020-10-17 -96.654  -9.915  -53.2845\n",
       "674       2020-10-18 -96.011  -7.439  -51.7250\n",
       "675       2020-10-19 -96.872 -15.908  -56.3900"
      ]
     },
     "execution_count": 90,
     "metadata": {
      "tags": []
     },
     "output_type": "execute_result"
    }
   ],
   "source": [
    "data = loadRecentNDaysOfData().T\n",
    "data['avg_temp'] = data[['Low', 'High']].mean(axis=1)\n",
    "data['terrestrial_date']=pd.to_datetime(data['terrestrial_date'])\n",
    "df_avg_temp=pd.DataFrame(list(data['avg_temp']), index=data['terrestrial_date'], columns=['temp'])\n",
    "df_avg_temp.fillna(data['avg_temp'].mean(),inplace=True)\n",
    "\n",
    "data"
   ]
  },
  {
   "cell_type": "code",
   "execution_count": null,
   "metadata": {
    "id": "jwBPDYvh8uwE"
   },
   "outputs": [],
   "source": [
    "scaler=MinMaxScaler(feature_range=(-1,1))\n",
    "scData =scaler.fit_transform(df_avg_temp)\n",
    "inputs = []\n",
    "inputs.append(scData)"
   ]
  },
  {
   "cell_type": "code",
   "execution_count": null,
   "metadata": {
    "id": "YP29yDKq8wfZ"
   },
   "outputs": [],
   "source": [
    "inputs=np.asanyarray(inputs)\n",
    "tst_x=inputs"
   ]
  },
  {
   "cell_type": "code",
   "execution_count": null,
   "metadata": {
    "colab": {
     "base_uri": "https://localhost:8080/",
     "height": 35
    },
    "executionInfo": {
     "elapsed": 2518,
     "status": "ok",
     "timestamp": 1603272063090,
     "user": {
      "displayName": "Tinker Projects",
      "photoUrl": "",
      "userId": "02989585942682063308"
     },
     "user_tz": -120
    },
    "id": "ueNY-sPDm79O",
    "outputId": "fd53ac36-907f-4e2c-c570-94667d3c7f63"
   },
   "outputs": [
    {
     "name": "stdout",
     "output_type": "stream",
     "text": [
      "loaded from disk\n"
     ]
    }
   ],
   "source": [
    "#@title Load Model JSON for testing\n",
    "#serialize mode to JSON\n",
    "from tensorflow.keras.models import model_from_json\n",
    "json_file =  open(loadModelPath,\"r\")\n",
    "model_json = json_file.read()\n",
    "json_file.close()\n",
    "model_fromDisk = model_from_json(model_json)\n",
    "\n",
    "#load weights into the new model \n",
    "model_fromDisk.load_weights(loadModelPathH5)\n",
    "print(\"loaded from disk\")"
   ]
  },
  {
   "cell_type": "markdown",
   "metadata": {
    "id": "BiuDkIVrneF7"
   },
   "source": [
    "Here is tomorrows average temperature on Mars"
   ]
  },
  {
   "cell_type": "code",
   "execution_count": null,
   "metadata": {
    "id": "zLJw4UJ0nKlh"
   },
   "outputs": [],
   "source": [
    "prediction = scaler.inverse_transform(model_fromDisk.predict(tst_x))\n",
    "prediction_date = max(pd.to_datetime(data['terrestrial_date']))+ timedelta(days=1)\n",
    "\n",
    "datalist = [[prediction_date,\\\n",
    "            data[\"Low\"].mean(),\\\n",
    "            data[\"High\"].mean(),\\\n",
    "            prediction[0][0]]]\n",
    "  \n",
    "# Create the pandas DataFrame \n",
    "df_new = pd.DataFrame(datalist, columns = ['terrestrial_date', 'Low','High','avg_temp']) \n",
    "df_with_prediction = data.append([df_new],ignore_index=True)"
   ]
  },
  {
   "cell_type": "code",
   "execution_count": null,
   "metadata": {
    "colab": {
     "base_uri": "https://localhost:8080/",
     "height": 283
    },
    "executionInfo": {
     "elapsed": 873,
     "status": "ok",
     "timestamp": 1603274559452,
     "user": {
      "displayName": "Tinker Projects",
      "photoUrl": "",
      "userId": "02989585942682063308"
     },
     "user_tz": -120
    },
    "id": "AHDiYfECBvE3",
    "outputId": "f79599d5-8fd1-4c09-b9a0-4299ef6aab34"
   },
   "outputs": [
    {
     "data": {
      "text/plain": [
       "<matplotlib.collections.PolyCollection at 0x7f68fda152b0>"
      ]
     },
     "execution_count": 118,
     "metadata": {
      "tags": []
     },
     "output_type": "execute_result"
    },
    {
     "data": {
      "image/png": "[encoded data removed]",
      "text/plain": [
       "<Figure size 720x288 with 1 Axes>"
      ]
     },
     "metadata": {
      "needs_background": "light",
      "tags": []
     },
     "output_type": "display_data"
    }
   ],
   "source": [
    "# show data of past 7 days plus prediction day\n",
    "data_1 = df_with_prediction.set_index('terrestrial_date')\n",
    "dayRange = data_1.index.to_list()\n",
    "meanTemperature = data_1['avg_temp']\n",
    "std = data_1['avg_temp'].std()\n",
    "lower = (meanTemperature-std).to_list()\n",
    "upper = (meanTemperature+std).to_list()\n",
    "high = data_1['High'].to_list()\n",
    "low = data_1['Low'].to_list()\n",
    "\n",
    "plt.figure(figsize=(10,4))\n",
    "\n",
    "plt.plot(prediction_date, prediction,'r*')\n",
    "\n",
    "plt.plot(dayRange, meanTemperature)\n",
    "\n",
    "# first fill between min and max temps\n",
    "plt.fill_between(dayRange, low, high, facecolor='papayawhip')\n",
    "\n",
    "# then also fill std-range (perhaps from archive data?)\n",
    "plt.fill_between(dayRange, lower, upper, facecolor='lightblue')"
   ]
  }
 ],
 "metadata": {
  "colab": {
   "collapsed_sections": [],
   "name": "ProjectNotebook_NextDayPrediction.ipynb",
   "provenance": []
  },
  "kernelspec": {
   "display_name": "Python 3",
   "language": "python",
   "name": "python3"
  },
  "language_info": {
   "codemirror_mode": {
    "name": "ipython",
    "version": 3
   },
   "file_extension": ".py",
   "mimetype": "text/x-python",
   "name": "python",
   "nbconvert_exporter": "python",
   "pygments_lexer": "ipython3",
   "version": "3.7.4"
  }
 },
 "nbformat": 4,
 "nbformat_minor": 1
}
