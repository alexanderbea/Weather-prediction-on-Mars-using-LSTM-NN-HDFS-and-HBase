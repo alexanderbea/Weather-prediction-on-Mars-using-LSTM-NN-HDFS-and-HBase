{
 "cells": [
  {
   "cell_type": "markdown",
   "metadata": {
    "id": "IQSD5lfRMYsK"
   },
   "source": [
    "<h1>Weather on Mars - Training Notebook</h1>\n",
    "<h2>Training for prediction of temperature based on empirical data collected by Curiosity Mars Rover</h2>"
   ]
  },
  {
   "cell_type": "code",
   "execution_count": null,
   "metadata": {
    "id": "tjUzbiwqRA9V"
   },
   "outputs": [],
   "source": [
    "runLocallyOrOnDrive = 'Drive' # 'Drive' or 'Local', this variable only saves the prediction model to drive or local\n",
    "#if 'Local' change the paths below to local paths e.g.  r'C:/Users/..'"
   ]
  },
  {
   "cell_type": "code",
   "execution_count": null,
   "metadata": {
    "cellView": "form",
    "colab": {
     "base_uri": "https://localhost:8080/",
     "height": 33
    },
    "executionInfo": {
     "elapsed": 1085,
     "status": "ok",
     "timestamp": 1603639493529,
     "user": {
      "displayName": "Tinker Projects",
      "photoUrl": "",
      "userId": "02989585942682063308"
     },
     "user_tz": -60
    },
    "id": "RFhmOPCsN8bi",
    "outputId": "76032ce1-f5cf-46ce-b3c8-c475d327672a"
   },
   "outputs": [
    {
     "name": "stdout",
     "output_type": "stream",
     "text": [
      "Drive already mounted at /content/drive/; to attempt to forcibly remount, call drive.mount(\"/content/drive/\", force_remount=True).\n"
     ]
    }
   ],
   "source": [
    "#@title Connect to Google Drive if runLocallyOrOnDrive=='Drive'\n",
    "if runLocallyOrOnDrive == \"Drive\":\n",
    "  from google.colab import drive\n",
    "  drive.mount('/content/drive/')"
   ]
  },
  {
   "cell_type": "code",
   "execution_count": null,
   "metadata": {
    "id": "V4loS1EDQlZQ"
   },
   "outputs": [],
   "source": [
    "#@title Change these file paths to your respective\n",
    "#Google drive folder, but it can also be local e.g. on your C-disk\n",
    "if runLocallyOrOnDrive == 'Local':\n",
    "    saveModelPath = r'/media/../model.json' # create Alphabet folder on disk\n",
    "    saveModelPathH5 = r'media/../model.h5'    \n",
    "    \n",
    "elif runLocallyOrOnDrive == 'Drive': \n",
    "    saveModelPath = r'/content/../model.json' # create Alphabet folder on disk\n",
    "    saveModelPathH5 = r'/content/../model.h5'"
   ]
  },
  {
   "cell_type": "code",
   "execution_count": null,
   "metadata": {
    "cellView": "form",
    "id": "1_7vIZWZPV0G"
   },
   "outputs": [],
   "source": [
    "#@title Import libraries\n",
    "# # If you want to loads file, upload to drive and run the following\n",
    "import urllib, json\n",
    "\n",
    "# import sys\n",
    "import pandas as pd\n",
    "import matplotlib.pyplot as plt\n",
    "import numpy as np\n",
    "import tensorflow as tf\n",
    "\n",
    "from keras.layers import Bidirectional,LSTM,Dense,Flatten,Conv1D,MaxPooling1D,Dropout,RepeatVector\n",
    "from keras.models import Sequential\n",
    "from keras.callbacks import EarlyStopping,ReduceLROnPlateau\n",
    "from tensorflow import keras\n",
    "from sklearn.preprocessing import MinMaxScaler"
   ]
  },
  {
   "cell_type": "code",
   "execution_count": null,
   "metadata": {
    "id": "aJ2q8xffOuRy"
   },
   "outputs": [],
   "source": [
    "loadHistoricalDataFrom = \"API\" # \"Drive\", \"API\" and \"HBASE\" work"
   ]
  },
  {
   "cell_type": "code",
   "execution_count": null,
   "metadata": {
    "cellView": "form",
    "id": "TkWM9aUEW90z"
   },
   "outputs": [],
   "source": [
    "#@title Import more libraries if HBASE if choosen  \n",
    "if loadHistoricalDataFrom == \"HBASE\":\n",
    "  #import hbase library\n",
    "  #pip install hbase-python\n",
    "  import hbase"
   ]
  },
  {
   "cell_type": "code",
   "execution_count": null,
   "metadata": {
    "cellView": "form",
    "id": "tVZUhNt0MpD5"
   },
   "outputs": [],
   "source": [
    "#@title Functions: Load Data \n",
    "def loadDataFromHBase():\n",
    "    zk = '127.0.0.1:2181'\n",
    "    hbaseData = []\n",
    "\n",
    "    #got connection issue but followed instruction herein: https://github.com/3601314/hbase-python/issues/4 \n",
    "    #added \"table = table.replace('default:','')\" on lineno 195 in \n",
    "    # ~/anaconda2/lib/python3.5/site-packages/hbase/client/region.py\n",
    "    with hbase.ConnectionPool(zk).connect() as conn:\n",
    "        table = conn['default']['archive']\n",
    "        for row in table.scan():\n",
    "            hbaseData.append(row)\n",
    "\n",
    "    column_names = [\"terrestrial_date\", \"min_temp\", \"max_temp\"]\n",
    "    data = pd.DataFrame(columns = column_names)\n",
    "\n",
    "    for d in hbaseData:\n",
    "        terrestrial_date = d.get(\"cf:wind_speed\").decode(\"utf-8\")\n",
    "        min_temp = d.get(\"cf:season\").decode(\"utf-8\")\n",
    "        max_temp = d.get(\"cf:ls\").decode(\"utf-8\")\n",
    "        hbase_data = {'terrestrial_date': terrestrial_date, 'min_temp': min_temp, 'max_temp': max_temp}\n",
    "        data = data.append(hbase_data, ignore_index=True)\n",
    "    return data\n",
    "\n",
    "def loadHistoricalData(): \n",
    "  if loadHistoricalDataFrom == \"API\":\n",
    "    archiveUrl = 'https://pudding.cool/2017/12/mars-data/marsWeather.json'\n",
    "    data = pd.DataFrame(pd.DataFrame(json.loads(urllib.request.urlopen(archiveUrl).read().decode('utf-8'))))\n",
    "    return data\n",
    "  elif loadHistoricalDataFrom == \"Drive\":\n",
    "    data = pd.read_csv('/content/drive/My Drive/ID2221 Data Intensive Computing/Final Project/Data/mars-weather.csv')\n",
    "    return data\n",
    "  elif loadHistoricalDataFrom == \"HBASE\":\n",
    "    data = loadDataFromHBase()\n",
    "    return data    \n",
    "    \n",
    "# returns the (average) weather data for a top level key [sol] from [sol_keys]\n",
    "def findAtAndPre(dictionary, key):\n",
    "  value = dictionary.get(key)\n",
    "  return {'AT': value.get('AT')['av'], 'PRE': value.get('PRE')['av']}\n",
    "\n",
    "def loadRecentNDaysOfData(NDays): \n",
    "  # returns the data of the latest 7 days\n",
    "  apiUrl = 'https://api.nasa.gov/insight_weather/?api_key=DEMO_KEY&feedtype=json&ver=1.0'\n",
    "  jsonApi = json.loads(urllib.request.urlopen(apiUrl).read())\n",
    "\n",
    "  dfApi = pd.DataFrame({key: findAtAndPre(jsonApi, key) for key in jsonApi.get('sol_keys')})\n",
    "  return dfApi"
   ]
  },
  {
   "cell_type": "code",
   "execution_count": null,
   "metadata": {
    "id": "bfkp4CCMP58j"
   },
   "outputs": [],
   "source": [
    "data = loadHistoricalData()"
   ]
  },
  {
   "cell_type": "code",
   "execution_count": null,
   "metadata": {
    "id": "H-TqmKrkUiuJ"
   },
   "outputs": [],
   "source": [
    "data['min_temp'] = pd.to_numeric(data['min_temp'], downcast=\"float\")\n",
    "data['max_temp'] = pd.to_numeric(data['max_temp'], downcast=\"float\")\n",
    "\n",
    "data['avg_temp'] = data[['min_temp', 'max_temp']].mean(axis=1)\n",
    "data['terrestrial_date']=pd.to_datetime(data['terrestrial_date'])"
   ]
  },
  {
   "cell_type": "code",
   "execution_count": null,
   "metadata": {
    "id": "xvPtr3jh7iiK"
   },
   "outputs": [],
   "source": [
    "df_avg_temp=pd.DataFrame(list(data['avg_temp']), index=data['terrestrial_date'], columns=['temp'])\n",
    "df_avg_temp.fillna(data['avg_temp'].mean(),inplace=True)"
   ]
  },
  {
   "cell_type": "code",
   "execution_count": null,
   "metadata": {
    "id": "jwBPDYvh8uwE"
   },
   "outputs": [],
   "source": [
    "scaler=MinMaxScaler(feature_range=(-1,1))\n",
    "scData =scaler.fit_transform(df_avg_temp)\n",
    "\n",
    "windowsDays=7 \n",
    "outputs=[]\n",
    "inputs=[]\n",
    "\n",
    "for i in range(len(scData)-windowsDays): #create the 7 day windows for training \n",
    "    inputs.append(scData[i:i+windowsDays])\n",
    "    outputs.append(scData[i+windowsDays])"
   ]
  },
  {
   "cell_type": "code",
   "execution_count": null,
   "metadata": {
    "id": "YP29yDKq8wfZ"
   },
   "outputs": [],
   "source": [
    "outputs=np.asanyarray(outputs)\n",
    "inputs=np.asanyarray(inputs)\n",
    "\n",
    "trainingDays = int(np.round(len(inputs)*0.85,0)) #split the training data so that we have some test data below\n",
    "# NOTE that we will also have validation data in the training\n",
    "\n",
    "tr_x=inputs[:trainingDays,:,:]\n",
    "tr_y=outputs[:trainingDays]\n",
    "\n",
    "tst_x=inputs[trainingDays:,:,:]\n",
    "tst_y=outputs[trainingDays:]"
   ]
  },
  {
   "cell_type": "code",
   "execution_count": null,
   "metadata": {
    "id": "aUL_t32h7gWF"
   },
   "outputs": [],
   "source": [
    "model=keras.Sequential([\n",
    "                  LSTM(128,activation='relu',input_shape=(windowsDays,1), return_sequences=True),\n",
    "                  Bidirectional(LSTM(64,activation='relu')), #train two instead of one LSTMs on the input sequence\n",
    "                  Dense(1)\n",
    "                  ]\n",
    "                  )\n",
    "model.compile(optimizer='adam',loss='mse', metrics=['MeanAbsoluteError'])"
   ]
  },
  {
   "cell_type": "code",
   "execution_count": null,
   "metadata": {
    "colab": {
     "base_uri": "https://localhost:8080/",
     "height": 351
    },
    "executionInfo": {
     "elapsed": 17064,
     "status": "ok",
     "timestamp": 1603639509595,
     "user": {
      "displayName": "Tinker Projects",
      "photoUrl": "",
      "userId": "02989585942682063308"
     },
     "user_tz": -60
    },
    "id": "xZB67EQS8xt6",
    "outputId": "d2b1ff2b-1626-49e1-879b-a46704cbcd04"
   },
   "outputs": [
    {
     "name": "stdout",
     "output_type": "stream",
     "text": [
      "Epoch 1/10\n",
      "53/53 [==============================] - 1s 26ms/step - loss: 0.0533 - mean_absolute_error: 0.1641 - val_loss: 0.0143 - val_mean_absolute_error: 0.0914\n",
      "Epoch 2/10\n",
      "53/53 [==============================] - 1s 18ms/step - loss: 0.0176 - mean_absolute_error: 0.0959 - val_loss: 0.0144 - val_mean_absolute_error: 0.0916\n",
      "Epoch 3/10\n",
      "53/53 [==============================] - 1s 18ms/step - loss: 0.0171 - mean_absolute_error: 0.0930 - val_loss: 0.0138 - val_mean_absolute_error: 0.0907\n",
      "Epoch 4/10\n",
      "53/53 [==============================] - 1s 19ms/step - loss: 0.0165 - mean_absolute_error: 0.0907 - val_loss: 0.0132 - val_mean_absolute_error: 0.0886\n",
      "Epoch 5/10\n",
      "53/53 [==============================] - 1s 19ms/step - loss: 0.0166 - mean_absolute_error: 0.0922 - val_loss: 0.0133 - val_mean_absolute_error: 0.0893\n",
      "Epoch 6/10\n",
      "53/53 [==============================] - 1s 19ms/step - loss: 0.0163 - mean_absolute_error: 0.0903 - val_loss: 0.0132 - val_mean_absolute_error: 0.0896\n",
      "Epoch 7/10\n",
      "53/53 [==============================] - 1s 19ms/step - loss: 0.0159 - mean_absolute_error: 0.0892 - val_loss: 0.0129 - val_mean_absolute_error: 0.0886\n",
      "Epoch 8/10\n",
      "53/53 [==============================] - 1s 18ms/step - loss: 0.0156 - mean_absolute_error: 0.0884 - val_loss: 0.0160 - val_mean_absolute_error: 0.0989\n",
      "Epoch 9/10\n",
      "53/53 [==============================] - 1s 18ms/step - loss: 0.0157 - mean_absolute_error: 0.0894 - val_loss: 0.0137 - val_mean_absolute_error: 0.0909\n",
      "Epoch 10/10\n",
      "53/53 [==============================] - 1s 17ms/step - loss: 0.0160 - mean_absolute_error: 0.0909 - val_loss: 0.0131 - val_mean_absolute_error: 0.0889\n"
     ]
    }
   ],
   "source": [
    "# early_stop=EarlyStopping(monitor='val_loss',patience=5)\n",
    "history = model.fit(tr_x,tr_y,epochs=10,verbose=1,validation_split=0.15)#,callbacks=[early_stop]) #validation data split at 15%"
   ]
  },
  {
   "cell_type": "code",
   "execution_count": null,
   "metadata": {
    "colab": {
     "base_uri": "https://localhost:8080/",
     "height": 268
    },
    "executionInfo": {
     "elapsed": 17387,
     "status": "ok",
     "timestamp": 1603639509927,
     "user": {
      "displayName": "Tinker Projects",
      "photoUrl": "",
      "userId": "02989585942682063308"
     },
     "user_tz": -60
    },
    "id": "aqaPa8bOk2bz",
    "outputId": "992854dc-6c2d-4529-fea8-b50e8fd82f4f"
   },
   "outputs": [
    {
     "data": {
      "image/png": "[encoded data removed]",
      "text/plain": [
       "<Figure size 432x288 with 1 Axes>"
      ]
     },
     "metadata": {
      "needs_background": "light",
      "tags": []
     },
     "output_type": "display_data"
    }
   ],
   "source": [
    "plt.plot(history.history['loss'], label='loss train')\n",
    "plt.plot(history.history['val_loss'], label='loss val')\n",
    "plt.legend();"
   ]
  },
  {
   "cell_type": "code",
   "execution_count": null,
   "metadata": {
    "colab": {
     "base_uri": "https://localhost:8080/",
     "height": 336
    },
    "executionInfo": {
     "elapsed": 18211,
     "status": "ok",
     "timestamp": 1603639510758,
     "user": {
      "displayName": "Tinker Projects",
      "photoUrl": "",
      "userId": "02989585942682063308"
     },
     "user_tz": -60
    },
    "id": "5eMAAnKEdVsi",
    "outputId": "7592efff-dbc7-40c5-b07e-745b0686e3b7"
   },
   "outputs": [
    {
     "data": {
      "image/png": "[encoded data removed]",
      "text/plain": [
       "<Figure size 1224x360 with 1 Axes>"
      ]
     },
     "metadata": {
      "needs_background": "light",
      "tags": []
     },
     "output_type": "display_data"
    }
   ],
   "source": [
    "trained = scaler.inverse_transform(tr_y)\n",
    "predicted=scaler.inverse_transform(model.predict(tst_x))\n",
    "actual=scaler.inverse_transform(tst_y)\n",
    "\n",
    "plt.figure(figsize=(17,5))\n",
    "plt.plot(np.arange(0, len(tr_y)), trained, 'g', label=\"history\")\n",
    "plt.plot(np.arange(len(tr_y), len(tr_y) + len(tst_y)), actual, marker='.', label=\"true\")\n",
    "plt.plot(np.arange(len(tr_y), len(tr_y) + len(tst_y)), predicted, 'r', label=\"prediction\")\n",
    "plt.ylabel('Temperature')\n",
    "plt.xlabel('Time Step')\n",
    "plt.legend()\n",
    "plt.show();"
   ]
  },
  {
   "cell_type": "code",
   "execution_count": null,
   "metadata": {
    "colab": {
     "base_uri": "https://localhost:8080/",
     "height": 33
    },
    "executionInfo": {
     "elapsed": 19190,
     "status": "ok",
     "timestamp": 1603639511746,
     "user": {
      "displayName": "Tinker Projects",
      "photoUrl": "",
      "userId": "02989585942682063308"
     },
     "user_tz": -60
    },
    "id": "I4SpoQDlmeia",
    "outputId": "091be5dc-28cf-4607-bdd7-ecb78187ed4c"
   },
   "outputs": [
    {
     "name": "stdout",
     "output_type": "stream",
     "text": [
      "Saved model to disk\n"
     ]
    }
   ],
   "source": [
    "#serialize mode to JSON\n",
    "from keras.models import model_from_json\n",
    "\n",
    "model_json = model.to_json()\n",
    "with open(saveModelPath,\"w\") as json_file:\n",
    "  json_file.write(model_json)\n",
    "\n",
    "# serialize weights to HDF5\n",
    "model.save_weights(saveModelPathH5)\n",
    "print(\"Saved model to disk\")"
   ]
  },
  {
   "cell_type": "code",
   "execution_count": null,
   "metadata": {
    "colab": {
     "base_uri": "https://localhost:8080/",
     "height": 33
    },
    "executionInfo": {
     "elapsed": 19183,
     "status": "ok",
     "timestamp": 1603639511747,
     "user": {
      "displayName": "Tinker Projects",
      "photoUrl": "",
      "userId": "02989585942682063308"
     },
     "user_tz": -60
    },
    "id": "ueNY-sPDm79O",
    "outputId": "fb1da73a-ff71-4b19-aaa4-ce61c309bab3"
   },
   "outputs": [
    {
     "name": "stdout",
     "output_type": "stream",
     "text": [
      "loaded from disk\n"
     ]
    }
   ],
   "source": [
    "#@title Load Model JSON for testing\n",
    "#serialize mode to JSON\n",
    "from tensorflow.keras.models import model_from_json\n",
    "json_file =  open(saveModelPath,\"r\")\n",
    "model_json = json_file.read()\n",
    "json_file.close()\n",
    "model_fromDisk = model_from_json(model_json)\n",
    "\n",
    "#load weights into the new model \n",
    "model_fromDisk.load_weights(saveModelPathH5)\n",
    "print(\"loaded from disk\")"
   ]
  },
  {
   "cell_type": "markdown",
   "metadata": {
    "id": "BiuDkIVrneF7"
   },
   "source": [
    "Here is how the model from disk predicts:"
   ]
  },
  {
   "cell_type": "code",
   "execution_count": null,
   "metadata": {
    "colab": {
     "base_uri": "https://localhost:8080/",
     "height": 33
    },
    "executionInfo": {
     "elapsed": 19972,
     "status": "ok",
     "timestamp": 1603639512542,
     "user": {
      "displayName": "Tinker Projects",
      "photoUrl": "",
      "userId": "02989585942682063308"
     },
     "user_tz": -60
    },
    "id": "zLJw4UJ0nKlh",
    "outputId": "99fb6c64-e239-4fba-bf86-951c9f3f9cdd"
   },
   "outputs": [
    {
     "data": {
      "text/plain": [
       "array([-35.903385], dtype=float32)"
      ]
     },
     "execution_count": 19,
     "metadata": {
      "tags": []
     },
     "output_type": "execute_result"
    }
   ],
   "source": [
    "scaler.inverse_transform(model_fromDisk.predict(tst_x))[0]"
   ]
  },
  {
   "cell_type": "markdown",
   "metadata": {
    "id": "s5H5e5QrniMX"
   },
   "source": [
    "In comparison to above i.e. the same. Thereby, loading from disk works fine:"
   ]
  },
  {
   "cell_type": "code",
   "execution_count": null,
   "metadata": {
    "colab": {
     "base_uri": "https://localhost:8080/",
     "height": 33
    },
    "executionInfo": {
     "elapsed": 19963,
     "status": "ok",
     "timestamp": 1603639512542,
     "user": {
      "displayName": "Tinker Projects",
      "photoUrl": "",
      "userId": "02989585942682063308"
     },
     "user_tz": -60
    },
    "id": "-RL_gKHtnbfq",
    "outputId": "0e733306-5ea3-4453-a591-fef14e1e1466"
   },
   "outputs": [
    {
     "data": {
      "text/plain": [
       "array([-35.903385], dtype=float32)"
      ]
     },
     "execution_count": 20,
     "metadata": {
      "tags": []
     },
     "output_type": "execute_result"
    }
   ],
   "source": [
    "predicted[0]"
   ]
  }
 ],
 "metadata": {
  "colab": {
   "collapsed_sections": [],
   "name": "ProjectNotebook_Training.ipynb",
   "provenance": []
  },
  "kernelspec": {
   "display_name": "Python 3",
   "language": "python",
   "name": "python3"
  },
  "language_info": {
   "codemirror_mode": {
    "name": "ipython",
    "version": 3
   },
   "file_extension": ".py",
   "mimetype": "text/x-python",
   "name": "python",
   "nbconvert_exporter": "python",
   "pygments_lexer": "ipython3",
   "version": "3.7.4"
  }
 },
 "nbformat": 4,
 "nbformat_minor": 1
}
